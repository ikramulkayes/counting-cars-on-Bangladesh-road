{
 "cells": [
  {
   "cell_type": "code",
   "execution_count": 4,
   "id": "78e01de1",
   "metadata": {},
   "outputs": [],
   "source": [
    "import cv2\n",
    "import numpy as np\n",
    "from matplotlib import pyplot as plt\n",
    "import torch\n",
    "import pandas"
   ]
  },
  {
   "cell_type": "code",
   "execution_count": 2,
   "id": "1cdd6b3c",
   "metadata": {},
   "outputs": [
    {
     "name": "stderr",
     "output_type": "stream",
     "text": [
      "Using cache found in C:\\Users\\Ikramul/.cache\\torch\\hub\\ultralytics_yolov5_master\n",
      "YOLOv5  2023-1-5 Python-3.9.12 torch-1.13.1+cu117 CUDA:0 (NVIDIA GeForce GTX 1050, 2048MiB)\n",
      "\n",
      "Fusing layers... \n",
      "YOLOv5s summary: 213 layers, 7225885 parameters, 0 gradients\n",
      "Adding AutoShape... \n"
     ]
    }
   ],
   "source": [
    "model = torch.hub.load(\"ultralytics/yolov5\",\"yolov5s\")\n",
    "\n",
    "model.classes = [2,3,5,6]  #select which classes you want to detect"
   ]
  },
  {
   "cell_type": "code",
   "execution_count": 75,
   "id": "d898f559",
   "metadata": {},
   "outputs": [],
   "source": [
    "import cv2\n",
    "import numpy as np\n",
    "from matplotlib import pyplot as plt\n",
    "import torch  #import stuffs\n",
    "cap = cv2.VideoCapture(\"tvid.mp4\") #campturing video\n",
    "count = 0\n",
    "carcount = 0 #here we will store the car count\n",
    "while True:\n",
    "    ret, frame = cap.read()  #extracting images from video\n",
    "    #print(frame.shape)\n",
    "    #count += 1\n",
    "\n",
    "    \n",
    "    results = model(frame)\n",
    "    a = results.pandas().xyxy[0]#extracting datas using panda\n",
    "    #print(a)\n",
    "    for index,row in results.pandas().xyxy[0].iterrows(): #extracting\n",
    "        #print(row)\n",
    "        x1 = int(row[\"xmin\"])\n",
    "        y1 = int(row[\"ymin\"])\n",
    "        x2 = int(row[\"xmax\"])\n",
    "        y2 = int(row[\"ymax\"])\n",
    "        #name = row[\"Name\"][0]\n",
    "        #print(name)\n",
    "        rectx1,recty1 = ((x1+x2)/2,(y1+y2)/2)\n",
    "        rectcenter = int(rectx1),int(recty1)\n",
    "        cx = rectcenter[0]\n",
    "        cy = rectcenter[1]\n",
    "        cv2.circle(frame,(cx,cy),3,(0,255,0),-1) #it is putting center in the masked objects\n",
    "        \n",
    "        cv2.putText(frame, str(cy)+\"  \"+str(name),(int(x1)+50,int(y1)+50), cv2.FONT_HERSHEY_COMPLEX, 1, (0, 100,250), 2) #it is putting the y cordinate in the mask\n",
    "        \n",
    "        cv2.putText(frame, 'Count :'+ str(carcount),(100,100), cv2.FONT_HERSHEY_COMPLEX, 1, (0, 100,250), 2) # it is the carcount\n",
    "        \n",
    "        cv2.line(frame,(10,int(frame.shape[0]/1.25)),(frame.shape[1],int(frame.shape[0]/1.25)),(0,255,0),4) #it is the line we will se on the screen\n",
    "        if int(cy)>  int(frame.shape[0]/1.25) - 5 and int(cy) < int(frame.shape[0]/1.25) + 5 : # when it will be in these range then it will change the car count number\n",
    "            carcount += 1\n",
    "            #cv2.line(frame,(10,int(frame.shape[0]/1.25)),(frame.shape[1],int(frame.shape[0]/1.25)),(0,255,255),4)\n",
    "    \n",
    "    cv2.imshow(\"YOLO\",np.squeeze(results.render())) #it is rendering the masked image\n",
    "    \n",
    "    if cv2.waitKey(50) & 0xFF == ord(\"q\"): # press q to break the loop\n",
    "        break\n",
    "#print(results)\n",
    "cap.release()\n",
    "cv2.destroyAllWindows()"
   ]
  },
  {
   "cell_type": "code",
   "execution_count": null,
   "id": "4eecb49b",
   "metadata": {},
   "outputs": [],
   "source": []
  },
  {
   "cell_type": "code",
   "execution_count": null,
   "id": "7c56d01f",
   "metadata": {},
   "outputs": [],
   "source": []
  },
  {
   "cell_type": "code",
   "execution_count": null,
   "id": "03cb0f0a",
   "metadata": {},
   "outputs": [],
   "source": []
  },
  {
   "cell_type": "code",
   "execution_count": null,
   "id": "1574daef",
   "metadata": {},
   "outputs": [],
   "source": []
  },
  {
   "cell_type": "code",
   "execution_count": null,
   "id": "63b793e3",
   "metadata": {},
   "outputs": [],
   "source": []
  },
  {
   "cell_type": "code",
   "execution_count": null,
   "id": "12387d8a",
   "metadata": {},
   "outputs": [],
   "source": []
  },
  {
   "cell_type": "code",
   "execution_count": null,
   "id": "e34bcbc6",
   "metadata": {},
   "outputs": [],
   "source": []
  },
  {
   "cell_type": "code",
   "execution_count": null,
   "id": "033bcc73",
   "metadata": {},
   "outputs": [],
   "source": []
  },
  {
   "cell_type": "code",
   "execution_count": null,
   "id": "b8342783",
   "metadata": {},
   "outputs": [],
   "source": []
  },
  {
   "cell_type": "code",
   "execution_count": null,
   "id": "2b16b3ea",
   "metadata": {},
   "outputs": [],
   "source": []
  },
  {
   "cell_type": "code",
   "execution_count": null,
   "id": "f9ca04e3",
   "metadata": {},
   "outputs": [],
   "source": []
  }
 ],
 "metadata": {
  "kernelspec": {
   "display_name": "Python 3 (ipykernel)",
   "language": "python",
   "name": "python3"
  },
  "language_info": {
   "codemirror_mode": {
    "name": "ipython",
    "version": 3
   },
   "file_extension": ".py",
   "mimetype": "text/x-python",
   "name": "python",
   "nbconvert_exporter": "python",
   "pygments_lexer": "ipython3",
   "version": "3.9.12"
  }
 },
 "nbformat": 4,
 "nbformat_minor": 5
}
